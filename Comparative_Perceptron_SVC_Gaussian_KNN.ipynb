{
 "cells": [
  {
   "cell_type": "code",
   "execution_count": 1,
   "metadata": {},
   "outputs": [],
   "source": [
    "#Import\n",
    "\n",
    "import csv\n",
    "import random\n",
    "import pandas as pd\n",
    "import matplotlib.pyplot as plt \n",
    "\n",
    "from sklearn.metrics import confusion_matrix\n",
    "\n",
    "from sklearn import svm\n",
    "from sklearn.linear_model import Perceptron\n",
    "from sklearn.naive_bayes import GaussianNB\n",
    "from sklearn.neighbors import KNeighborsClassifier"
   ]
  },
  {
   "cell_type": "code",
   "execution_count": 11,
   "metadata": {},
   "outputs": [],
   "source": [
    "# Models\n",
    "\n",
    "#model = Perceptron()\n",
    "#model = svm.SVC()\n",
    "model = KNeighborsClassifier(n_neighbors=3)\n",
    "#model = GaussianNB()"
   ]
  },
  {
   "cell_type": "code",
   "execution_count": 12,
   "metadata": {},
   "outputs": [],
   "source": [
    "# Read data in from file\n",
    "\n",
    "with open(\"banknotes.csv\") as f:\n",
    "    reader = csv.reader(f)\n",
    "    next(reader)\n",
    "\n",
    "    data = []\n",
    "    for row in reader:\n",
    "        data.append({\n",
    "            \"evidence\": [float(cell) for cell in row[:4]],\n",
    "            \"label\": \"Authentic\" if row[4] == \"0\" else \"Counterfeit\"\n",
    "        })"
   ]
  },
  {
   "cell_type": "code",
   "execution_count": 13,
   "metadata": {},
   "outputs": [
    {
     "name": "stdout",
     "output_type": "stream",
     "text": [
      "    variance  skewness  curtosis  entropy  class\n",
      "0   -0.89569   3.00250 -3.606700 -3.44570      1\n",
      "1    3.47690  -0.15314  2.530000  2.44950      0\n",
      "2    3.91020   6.06500 -2.453400 -0.68234      0\n",
      "3    0.60731   3.95440 -4.772000 -4.48530      1\n",
      "4    2.37180   7.49080  0.015989 -1.74140      0\n",
      "5   -2.21530  11.96250  0.078538 -7.78530      0\n",
      "6    3.94330   2.50170  1.521500  0.90300      0\n",
      "7    3.93100   1.85410 -0.023425  1.23140      0\n",
      "8    3.97190   1.03670  0.759730  1.00130      0\n",
      "9    0.55298  -3.46190  1.704800  1.10080      1\n",
      "10   0.26877   4.98700 -5.150800 -6.39130      1\n",
      "11  -1.13060   1.84580 -1.357500 -1.38060      1\n",
      "12   1.95720  -5.11530  8.612700 -1.42970      0\n",
      "13   0.57060  -0.02480  1.242100 -0.56210      0\n",
      "14  -1.18590  -1.25190  2.263500  0.77239      1\n"
     ]
    }
   ],
   "source": [
    "#Visualize the Data\n",
    "\n",
    "df = pd.read_csv(\"banknotes.csv\")\n",
    "print(df.head(15))"
   ]
  },
  {
   "cell_type": "code",
   "execution_count": 14,
   "metadata": {},
   "outputs": [],
   "source": [
    "# Separate data into training and testing groups\n",
    "\n",
    "holdout = int(0.50 * len(data))\n",
    "random.shuffle(data)\n",
    "testing = data[:holdout]\n",
    "training = data[holdout:]"
   ]
  },
  {
   "cell_type": "code",
   "execution_count": 15,
   "metadata": {},
   "outputs": [
    {
     "data": {
      "text/plain": [
       "KNeighborsClassifier(n_neighbors=3)"
      ]
     },
     "execution_count": 15,
     "metadata": {},
     "output_type": "execute_result"
    }
   ],
   "source": [
    "# Train model on training set\n",
    "\n",
    "X_training = [row[\"evidence\"] for row in training]\n",
    "y_training = [row[\"label\"] for row in training]\n",
    "model.fit(X_training, y_training)"
   ]
  },
  {
   "cell_type": "code",
   "execution_count": 16,
   "metadata": {},
   "outputs": [],
   "source": [
    "# Make predictions on the testing set\n",
    "\n",
    "X_testing = [row[\"evidence\"] for row in testing]\n",
    "y_testing = [row[\"label\"] for row in testing]\n",
    "predictions = model.predict(X_testing)"
   ]
  },
  {
   "cell_type": "code",
   "execution_count": 17,
   "metadata": {},
   "outputs": [],
   "source": [
    "# Compute how well we performed\n",
    "\n",
    "correct = 0\n",
    "incorrect = 0\n",
    "total = 0\n",
    "for actual, predicted in zip(y_testing, predictions):\n",
    "    total += 1\n",
    "    if actual == predicted:\n",
    "        correct += 1\n",
    "    else:\n",
    "        incorrect += 1"
   ]
  },
  {
   "cell_type": "code",
   "execution_count": 18,
   "metadata": {},
   "outputs": [
    {
     "name": "stdout",
     "output_type": "stream",
     "text": [
      "Results for model KNeighborsClassifier\n",
      "Correct: 685\n",
      "Incorrect: 1\n",
      "Accuracy: 99.85%\n"
     ]
    }
   ],
   "source": [
    "# Print results\n",
    "\n",
    "print(f\"Results for model {type(model).__name__}\")\n",
    "print(f\"Correct: {correct}\")\n",
    "print(f\"Incorrect: {incorrect}\")\n",
    "print(f\"Accuracy: {100 * correct / total:.2f}%\")"
   ]
  },
  {
   "cell_type": "code",
   "execution_count": 10,
   "metadata": {},
   "outputs": [
    {
     "name": "stdout",
     "output_type": "stream",
     "text": [
      "[[373   6]\n",
      " [  0 307]]\n"
     ]
    }
   ],
   "source": [
    "# Show Confusion Matrix\n",
    "\n",
    "print(confusion_matrix(y_testing, predictions))"
   ]
  },
  {
   "cell_type": "code",
   "execution_count": null,
   "metadata": {},
   "outputs": [],
   "source": []
  },
  {
   "cell_type": "code",
   "execution_count": null,
   "metadata": {},
   "outputs": [],
   "source": []
  }
 ],
 "metadata": {
  "kernelspec": {
   "display_name": "Python 3 (ipykernel)",
   "language": "python",
   "name": "python3"
  },
  "language_info": {
   "codemirror_mode": {
    "name": "ipython",
    "version": 3
   },
   "file_extension": ".py",
   "mimetype": "text/x-python",
   "name": "python",
   "nbconvert_exporter": "python",
   "pygments_lexer": "ipython3",
   "version": "3.10.2"
  }
 },
 "nbformat": 4,
 "nbformat_minor": 4
}
